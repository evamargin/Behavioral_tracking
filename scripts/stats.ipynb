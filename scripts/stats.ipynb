{
 "cells": [
  {
   "cell_type": "code",
   "execution_count": 1,
   "id": "a964cb2e",
   "metadata": {},
   "outputs": [],
   "source": [
    "import numpy as np\n",
    "import matplotlib.pyplot as plt\n",
    "import pandas as pd\n",
    "\n",
    "import csv\n",
    "from scipy.signal import resample_poly\n",
    "\n",
    "from pathlib import Path\n",
    "import glob\n",
    "import shutil\n",
    "import os\n",
    "import pickle\n",
    "\n",
    "import sys\n",
    "sys.path.append('/storage3/eva/code/neuropixels/src')\n",
    "import path_formatting as pf\n",
    "import motive\n",
    "import oe"
   ]
  },
  {
   "cell_type": "code",
   "execution_count": 5,
   "id": "4512ee00",
   "metadata": {},
   "outputs": [
    {
     "data": {
      "text/plain": [
       "('/storage3/eva/data/processed/eb02/eb02_20250718/motive/out_csv',\n",
       " '/storage3/eva/data/raw/oe/eb02/eb02_20250718/continuous.dat',\n",
       " '/storage3/eva/data/processed/eb02/eb02_20250718/kilosort',\n",
       " '/storage3/eva/code/neuropixels/results/eb02/eb02_20250718',\n",
       " PosixPath('/storage3/eva/code/neuropixels/results/eb02/eb02_20250718/pitch'))"
      ]
     },
     "execution_count": 5,
     "metadata": {},
     "output_type": "execute_result"
    }
   ],
   "source": [
    "date = \"20250718\" # change this according to ur session\n",
    "animal = \"eb02\"\n",
    "\n",
    "oe_sr = 30000\n",
    "m_sr = 120\n",
    "\n",
    "pyr = [7,26,45,53,56,64,68,79,83,89,90,115,125,137,167,178,183,189,228,230,232,233,234,256,403,414,426,427,428,429,430,434,441,444,445,446,455,457,458,460,470,471,472,473,474,475,476,477,494,495,512,513,516,519,545]\n",
    "inter = [70,78,105,110,138,153,154,204,220,227,492,493]\n",
    "\n",
    "csv_path = rf'X:\\eva\\data\\processed\\{animal}\\{animal}_{date}\\motive\\out_csv'\n",
    "csv_path = pf.w2l(csv_path)\n",
    "\n",
    "dat_path = rf'X:\\eva\\data\\raw\\oe\\{animal}\\{animal}_{date}\\continuous.dat'\n",
    "dat_path = pf.w2l(dat_path)\n",
    "\n",
    "ks_path = rf'X:\\eva\\data\\processed\\{animal}\\{animal}_{date}\\kilosort'\n",
    "ks_path = pf.w2l(ks_path)\n",
    "\n",
    "res_path = rf'X:\\eva\\code\\neuropixels\\results\\{animal}\\{animal}_{date}'\n",
    "res_path = pf.w2l(res_path)\n",
    "os.makedirs(res_path, exist_ok=True) # Create the folder if it doesn't exist\n",
    "\n",
    "pitch_path = Path(res_path) / \"pitch\"\n",
    "pitch_path.mkdir(parents=True, exist_ok=True) # Create the folder if it doesn't exist\n",
    "\n",
    "csv_path, dat_path, ks_path, res_path, pitch_path"
   ]
  },
  {
   "cell_type": "code",
   "execution_count": 7,
   "id": "a6a896d5",
   "metadata": {},
   "outputs": [],
   "source": [
    "res_path_path = Path(res_path)\n",
    "with open(res_path_path / f\"behav_periods_{animal}_{date}.pkl\", \"rb\") as f:\n",
    "    periods = pickle.load(f)"
   ]
  },
  {
   "cell_type": "code",
   "execution_count": 8,
   "id": "aa0fa655",
   "metadata": {},
   "outputs": [],
   "source": [
    "of_keys = list(periods.keys())[1::2] "
   ]
  },
  {
   "cell_type": "code",
   "execution_count": 9,
   "id": "3f2605ae",
   "metadata": {},
   "outputs": [],
   "source": [
    "pitch_data = {}\n",
    "\n",
    "for of in of_keys:\n",
    "    with open(f\"{pitch_path}/pf_data_dict1d_{of}_{date}.pkl\", \"rb\") as f:\n",
    "        pf_data_dict1d = pickle.load(f)\n",
    "        pitch_data[of] = pf_data_dict1d"
   ]
  },
  {
   "cell_type": "code",
   "execution_count": 77,
   "id": "80852caa",
   "metadata": {},
   "outputs": [],
   "source": [
    "def flip_row_indices(a, b, n_shuffles=1000):\n",
    "    a = np.asarray(a)\n",
    "    b = np.asarray(b)\n",
    "    assert a.shape == b.shape, \"a and b must be same shape\"\n",
    "\n",
    "    shuffles = []\n",
    "    for _ in range(n_shuffles):\n",
    "        mask = np.random.rand(len(a)) < 0.5  # random True/False per column\n",
    "        row0 = np.where(mask, b, a)\n",
    "        row1 = np.where(mask, a, b)\n",
    "        shuffles.append((row0, row1))\n",
    "    return np.array(shuffles)"
   ]
  },
  {
   "cell_type": "code",
   "execution_count": 78,
   "id": "743774f7",
   "metadata": {},
   "outputs": [
    {
     "data": {
      "text/plain": [
       "((32,), (32,))"
      ]
     },
     "execution_count": 78,
     "metadata": {},
     "output_type": "execute_result"
    }
   ],
   "source": [
    "pitch_data['of1']['rm'][154].shape, pitch_data['of2']['rm'][154].shape"
   ]
  },
  {
   "cell_type": "code",
   "execution_count": 79,
   "id": "5b57f55f",
   "metadata": {},
   "outputs": [],
   "source": [
    "def zscore_nan(arr):\n",
    "    mean = np.nanmean(arr)\n",
    "    std = np.nanstd(arr)\n",
    "    return (arr - mean) / std"
   ]
  },
  {
   "cell_type": "code",
   "execution_count": null,
   "id": "18ec550f",
   "metadata": {},
   "outputs": [
    {
     "data": {
      "text/plain": [
       "(1000, 2, 32)"
      ]
     },
     "execution_count": 93,
     "metadata": {},
     "output_type": "execute_result"
    }
   ],
   "source": [
    "unit = 89 #154\n",
    "a = zscore_nan(pitch_data['of1']['rm'][unit])\n",
    "b = zscore_nan(pitch_data['of2']['rm'][unit])\n",
    "\n",
    "shuffles = flip_row_indices(a, b)\n",
    "shuffles.shape"
   ]
  },
  {
   "cell_type": "code",
   "execution_count": 94,
   "id": "5f985417",
   "metadata": {},
   "outputs": [],
   "source": [
    "def corr_with_nans(a, b):\n",
    "    a = np.asarray(a)\n",
    "    b = np.asarray(b)\n",
    "    mask = ~np.isnan(a) & ~np.isnan(b)\n",
    "    return np.corrcoef(a[mask], b[mask])[0, 1]"
   ]
  },
  {
   "cell_type": "code",
   "execution_count": 95,
   "id": "b0083fd5",
   "metadata": {},
   "outputs": [],
   "source": [
    "corrs = []\n",
    "\n",
    "for sh in range(shuffles.shape[0]):\n",
    "    corrs.append(corr_with_nans(shuffles[sh,0,:], shuffles[sh,1,:]))"
   ]
  },
  {
   "cell_type": "code",
   "execution_count": 96,
   "id": "c33de7f8",
   "metadata": {},
   "outputs": [
    {
     "data": {
      "text/plain": [
       "1000"
      ]
     },
     "execution_count": 96,
     "metadata": {},
     "output_type": "execute_result"
    }
   ],
   "source": [
    "len(corrs)"
   ]
  },
  {
   "cell_type": "code",
   "execution_count": 97,
   "id": "3d81c488",
   "metadata": {},
   "outputs": [],
   "source": [
    "true_corr = corr_with_nans(a, b)"
   ]
  },
  {
   "cell_type": "code",
   "execution_count": 98,
   "id": "80a0cc37",
   "metadata": {},
   "outputs": [
    {
     "data": {
      "image/png": "[encoded data removed]",
      "text/plain": [
       "<Figure size 600x400 with 1 Axes>"
      ]
     },
     "metadata": {},
     "output_type": "display_data"
    }
   ],
   "source": [
    "plt.figure(figsize=(6, 4))\n",
    "plt.hist(corrs, bins=100, alpha=0.7, color='gray', edgecolor='black')\n",
    "plt.axvline(true_corr, color='red', linewidth=2, label='Real correlation')\n",
    "plt.xlabel('Correlation coefficient')\n",
    "plt.ylabel('Count')\n",
    "plt.title('Null distribution of shuffled correlations')\n",
    "plt.legend()\n",
    "plt.tight_layout()\n",
    "plt.show()"
   ]
  },
  {
   "cell_type": "code",
   "execution_count": null,
   "id": "a35c2bf8",
   "metadata": {},
   "outputs": [],
   "source": []
  },
  {
   "cell_type": "code",
   "execution_count": null,
   "id": "ce273896",
   "metadata": {},
   "outputs": [],
   "source": []
  },
  {
   "cell_type": "code",
   "execution_count": null,
   "id": "2a83e5ad",
   "metadata": {},
   "outputs": [],
   "source": []
  }
 ],
 "metadata": {
  "kernelspec": {
   "display_name": "motive",
   "language": "python",
   "name": "python3"
  },
  "language_info": {
   "codemirror_mode": {
    "name": "ipython",
    "version": 3
   },
   "file_extension": ".py",
   "mimetype": "text/x-python",
   "name": "python",
   "nbconvert_exporter": "python",
   "pygments_lexer": "ipython3",
   "version": "3.13.4"
  }
 },
 "nbformat": 4,
 "nbformat_minor": 5
}
