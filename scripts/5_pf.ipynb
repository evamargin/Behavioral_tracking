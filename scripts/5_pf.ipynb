{
 "cells": [
  {
   "cell_type": "code",
   "execution_count": 1,
   "id": "02b10c63",
   "metadata": {},
   "outputs": [],
   "source": [
    "import numpy as np\n",
    "import matplotlib.pyplot as plt\n",
    "import pandas as pd\n",
    "\n",
    "import csv\n",
    "from scipy.signal import resample_poly\n",
    "\n",
    "from pathlib import Path\n",
    "import glob\n",
    "import shutil\n",
    "import os\n",
    "import pickle\n",
    "\n",
    "import sys\n",
    "sys.path.append('/storage3/eva/code/remapping/src')\n",
    "import path_formatting as pf\n",
    "import motive\n",
    "import utils\n",
    "import oe"
   ]
  },
  {
   "cell_type": "code",
   "execution_count": 2,
   "id": "ec75438c",
   "metadata": {},
   "outputs": [
    {
     "name": "stdout",
     "output_type": "stream",
     "text": [
      "Ola! For folders inside of res_path: Path(res_path)/\"folder_name\"\n",
      "To make new folder (if not exist): your_path.mkdir(parents=True, exist_ok=True)\n"
     ]
    },
    {
     "data": {
      "text/plain": [
       "('/storage3/eva/data/processed/eb03/eb03_20250915/motive/out_csv',\n",
       " '/storage3/eva/data/processed/eb03/eb03_20250915/kilosort',\n",
       " '/storage3/eva/code/neuropixels/results/eb03/eb03_20250915',\n",
       " PosixPath('/storage3/eva/code/neuropixels/results/eb03/eb03_20250915/pf'))"
      ]
     },
     "execution_count": 2,
     "metadata": {},
     "output_type": "execute_result"
    }
   ],
   "source": [
    "date = \"20250915\" # change this according to ur session\n",
    "animal = \"eb03\"\n",
    "\n",
    "oe_sr = 30000\n",
    "m_sr = 120\n",
    "\n",
    "_, ks_path, csv_path, res_path = utils.path_load(date, animal,p=True)\n",
    "\n",
    "pf_path = Path(res_path) / \"pf\"\n",
    "pf_path.mkdir(parents=True, exist_ok=True) # Create the folder if it doesn't exist\n",
    "\n",
    "csv_path, ks_path, res_path, pf_path"
   ]
  },
  {
   "cell_type": "markdown",
   "id": "0130ece0",
   "metadata": {},
   "source": [
    "## Load data"
   ]
  },
  {
   "cell_type": "markdown",
   "id": "fea23d8e",
   "metadata": {},
   "source": [
    "load dictionary where keys -unit IDs, arrays - spike times in samples\n",
    "\n",
    "samples? \n",
    "sampling rate is `30 000 Hz` (30k samples per sec)\n",
    "\n",
    "- `1 Hz = 1 sample/ 1 sec`\n",
    "- --> to get time: `1 sec = 1 sample/ 1Hz`\n",
    "- **so to get time u have to divide samples on ur sampling rate**"
   ]
  },
  {
   "cell_type": "code",
   "execution_count": 3,
   "id": "a3b82c68",
   "metadata": {},
   "outputs": [
    {
     "name": "stdout",
     "output_type": "stream",
     "text": [
      "Sup! U have...\n",
      "51 phy-good clusters\n"
     ]
    }
   ],
   "source": [
    "goodspiketimes = oe.ks_load(ks_path)\n",
    "with open(Path(f'{res_path}/preprocessing') / f\"behav_periods_{animal}_{date}.pkl\", \"rb\") as f:\n",
    "    periods = pickle.load(f)"
   ]
  },
  {
   "cell_type": "code",
   "execution_count": 4,
   "id": "ea2b7919",
   "metadata": {},
   "outputs": [],
   "source": [
    "csv_dict = motive.get_csv_dict(csv_path)"
   ]
  },
  {
   "cell_type": "code",
   "execution_count": 5,
   "id": "29d252cd",
   "metadata": {},
   "outputs": [],
   "source": [
    "with open(Path(f'{res_path}/preprocessing') / f\"meta_{date}.pkl\", \"rb\") as f:\n",
    "    meta = pickle.load(f)"
   ]
  },
  {
   "cell_type": "code",
   "execution_count": 6,
   "id": "165e3fd7",
   "metadata": {},
   "outputs": [
    {
     "data": {
      "text/plain": [
       "{'of1': '20250915_6', 'of2': '20250915_9', 'of3': '20250915_11'}"
      ]
     },
     "execution_count": 6,
     "metadata": {},
     "output_type": "execute_result"
    }
   ],
   "source": [
    "meta"
   ]
  },
  {
   "cell_type": "code",
   "execution_count": 58,
   "id": "bae14d5b",
   "metadata": {},
   "outputs": [],
   "source": [
    "trial_key = 'of3'\n",
    "figsize=(5,4) #TOF(5,4) \n",
    "# figsize=(5,6) #BOF (5,6)\n",
    "df = csv_dict[meta[trial_key]]"
   ]
  },
  {
   "cell_type": "code",
   "execution_count": 59,
   "id": "707e09fe",
   "metadata": {},
   "outputs": [],
   "source": [
    "start, end = periods[trial_key]\n",
    "goodspiketimes_period = {\n",
    "    unit: spikes[(spikes >= start) & (spikes <= end)] - start\n",
    "    for unit, spikes in goodspiketimes.items()\n",
    "}\n",
    "goodspiketimes_sec = {unit: spikes / oe_sr for unit, spikes in goodspiketimes_period.items()}"
   ]
  },
  {
   "cell_type": "markdown",
   "id": "1e753bee",
   "metadata": {},
   "source": [
    "note! \n",
    "\n",
    "- we need to align time cz motive starts from 0sec but our ephys was chopped --> samples start not from 0 but from some moment of the day when this trial was recorded\n",
    "- that s why we doing  `- start` "
   ]
  },
  {
   "cell_type": "code",
   "execution_count": 60,
   "id": "2409e091",
   "metadata": {},
   "outputs": [
    {
     "data": {
      "text/plain": [
       "((180367,), (180367,), (180367,), (180367,), (180367,))"
      ]
     },
     "execution_count": 60,
     "metadata": {},
     "output_type": "execute_result"
    }
   ],
   "source": [
    "t = motive.get_frame_times(df)\n",
    "_, arrays_interpol = motive.get_arrays(df, metric='Position', dim_array = ['X','Y','Z'], interpolate=True)\n",
    "x = arrays_interpol['X']\n",
    "y = arrays_interpol['Y']\n",
    "z = arrays_interpol['Z']\n",
    "\n",
    "_,_,v = motive.speed(x, z, t)\n",
    "\n",
    "t.shape, x.shape, y.shape, z.shape, v.shape"
   ]
  },
  {
   "cell_type": "markdown",
   "id": "2acbb066",
   "metadata": {},
   "source": [
    "## Go for place cells"
   ]
  },
  {
   "cell_type": "markdown",
   "id": "dddc7ba9",
   "metadata": {},
   "source": [
    "### 1.  Map spike times to positional indices (i.e., 120Hz frames)"
   ]
  },
  {
   "cell_type": "markdown",
   "id": "c2a773a1",
   "metadata": {},
   "source": [
    "basically u re resampling ur spike times and search to what bin in motive data with 120Hz they belong to"
   ]
  },
  {
   "cell_type": "code",
   "execution_count": 61,
   "id": "a0accd20",
   "metadata": {},
   "outputs": [],
   "source": [
    "# oe data resampling - samples of 120freq with spike events\n",
    "spikes_resampled = {unit: (spikes*m_sr).astype(int) for unit, spikes in goodspiketimes_sec.items()}"
   ]
  },
  {
   "cell_type": "markdown",
   "id": "e1c1458a",
   "metadata": {},
   "source": [
    "### 2. Speed thresholding (>2cm/sec)"
   ]
  },
  {
   "cell_type": "code",
   "execution_count": 62,
   "id": "e31f6551",
   "metadata": {},
   "outputs": [],
   "source": [
    "speed_cutoff = 0.02 # 2cm/s\n",
    "movement_mask = v > speed_cutoff \n",
    "\n",
    "x_moving = x[movement_mask]\n",
    "z_moving = z[movement_mask]"
   ]
  },
  {
   "cell_type": "code",
   "execution_count": 63,
   "id": "1a315c45",
   "metadata": {},
   "outputs": [
    {
     "data": {
      "text/plain": [
       "((179134,), (179134,), (180367,), (180367,))"
      ]
     },
     "execution_count": 63,
     "metadata": {},
     "output_type": "execute_result"
    }
   ],
   "source": [
    "x_moving.shape, z_moving.shape, x.shape, z.shape"
   ]
  },
  {
   "cell_type": "markdown",
   "id": "6fb832e6",
   "metadata": {},
   "source": [
    "### 3. Define spatial bins edges (we decided to use 5x5cm)"
   ]
  },
  {
   "cell_type": "code",
   "execution_count": 64,
   "id": "2914fca1",
   "metadata": {},
   "outputs": [],
   "source": [
    "# 5 cm bins in meters → 0.05\n",
    "bin_size = 0.05\n",
    "\n",
    "x_edges = np.arange(x.min(), x.max()  + bin_size, bin_size)\n",
    "z_edges = np.arange(z.min(), z.max()  + bin_size, bin_size)"
   ]
  },
  {
   "cell_type": "markdown",
   "id": "d565625e",
   "metadata": {},
   "source": [
    "Why use x and z instead of x_moving and z_moving to define bin edges?\n",
    "- Because you want to define bin edges based on the full spatial extent of the arena, not just the subset of positions where the animal was moving"
   ]
  },
  {
   "cell_type": "markdown",
   "id": "dd314184",
   "metadata": {},
   "source": [
    "### 4. Compute occupancy map (in seconds)"
   ]
  },
  {
   "cell_type": "markdown",
   "id": "12ba7117",
   "metadata": {},
   "source": [
    "- shows how much time an animal spends in different parts of space\n",
    "- it’s like a heatmap of presence\n",
    "\n",
    "In a 2D arena:\n",
    "- Divide space into small bins (like 5x5cm)\n",
    "- Count how long the animal was in each bin\n",
    "- The result is the occupancy map"
   ]
  },
  {
   "cell_type": "code",
   "execution_count": 65,
   "id": "834e7ad1",
   "metadata": {},
   "outputs": [],
   "source": [
    "occupancy_counts, _, _ = np.histogram2d(x_moving, z_moving, bins=[x_edges, z_edges])\n",
    "occupancy_seconds = occupancy_counts/m_sr\n",
    "\n",
    "#smooth\n",
    "from scipy.ndimage import gaussian_filter\n",
    "sigma = 1.0  # adjust as needed (in bins)\n",
    "occupancy_smooth = gaussian_filter(occupancy_seconds, sigma=sigma)"
   ]
  },
  {
   "cell_type": "markdown",
   "id": "5a3f4a7c",
   "metadata": {},
   "source": [
    "- smoothing kernel: sigma = 1–2 bins (e.g. 5 cm = 1 bin → smooth over 5–10 cm)\n",
    "- we know that place fields are usually around 20-30 cm\n",
    "--> so mb 2 bins smoothing?"
   ]
  },
  {
   "cell_type": "code",
   "execution_count": 66,
   "id": "0afd4b56",
   "metadata": {},
   "outputs": [],
   "source": [
    "# to plot unvisited areas as grey\n",
    "# occupancy_mask = occupancy_seconds == 0\n",
    "\n",
    "occupancy_mask = (occupancy_seconds == 0) | (occupancy_smooth < 1.0) # OR\n",
    "# 0sec - exclude before smoothing\n",
    "# 1sec - threshold on SMOOTHED data"
   ]
  },
  {
   "cell_type": "code",
   "execution_count": 67,
   "id": "4e57e791",
   "metadata": {},
   "outputs": [],
   "source": [
    "pf_data_dict = {'x_edges':x_edges, 'z_edges':z_edges}"
   ]
  },
  {
   "cell_type": "code",
   "execution_count": 68,
   "id": "b3339996",
   "metadata": {},
   "outputs": [],
   "source": [
    "occupancy_smooth_masked = np.where(occupancy_mask, np.nan, occupancy_smooth)\n",
    "pf_data_dict['om'] = occupancy_smooth_masked"
   ]
  },
  {
   "cell_type": "markdown",
   "id": "8f101436",
   "metadata": {},
   "source": [
    "!!!! Masking update\n",
    "\n",
    "- Applying the mask early in the pipeline is both cleaner and often more correct, especially if you want downstream operations (like rate maps, peak detection, stats) to completely ignore under-sampled areas.\n",
    "- No need to track the mask separately at every plotting step.\n",
    "- NaNs naturally propagate, avoiding meaningless values in low-confidence bins.\n",
    "- Compatible with colormap masking (cmap.set_bad(), etc.)"
   ]
  },
  {
   "cell_type": "code",
   "execution_count": 69,
   "metadata": {},
   "outputs": [
    {
     "data": {
      "image/png": "[encoded data removed]",
      "text/plain": [
       "<Figure size 500x400 with 2 Axes>"
      ]
     },
     "metadata": {},
     "output_type": "display_data"
    }
   ],
   "source": [
    "import matplotlib.cm as cm\n",
    "save=True\n",
    "\n",
    "plt.figure(figsize=figsize) #TOF(5,4) BOF (5,6)\n",
    "cmap = cm.viridis.copy()\n",
    "cmap.set_bad(color='lightgrey')  # NaNs will be shown as light grey\n",
    "plt.imshow(\n",
    "    occupancy_smooth_masked.T, \n",
    "    origin='lower', \n",
    "    extent=(x_edges[0], x_edges[-1], z_edges[0], z_edges[-1]),\n",
    "    aspect='auto',\n",
    "    cmap=cmap,\n",
    ")\n",
    "plt.colorbar(label='Occupancy [s]')\n",
    "plt.xlabel('X position [m]')\n",
    "plt.ylabel('Z position [m]')\n",
    "filename = f'om_{trial_key}_vcut{speed_cutoff*100}_{date}'\n",
    "plt.title(filename)\n",
    "plt.tight_layout()\n",
    "\n",
    "if save:\n",
    "    plt.savefig(pf_path / f\"{filename}.png\", dpi=300, bbox_inches='tight')\n",
    "plt.show()"
   ]
  },
  {
   "cell_type": "markdown",
   "id": "2692d1cc",
   "metadata": {},
   "source": [
    "### 5. Compute spike map for each cell"
   ]
  },
  {
   "cell_type": "code",
   "execution_count": 70,
   "id": "901f1200",
   "metadata": {},
   "outputs": [],
   "source": [
    "spike_maps = {}\n",
    "\n",
    "for cell_id, spike_idxs in spikes_resampled.items():\n",
    "    # Keep only spikes during movement\n",
    "    spike_idxs_moving = spike_idxs[spike_idxs < len(movement_mask)]\n",
    "    spike_idxs_moving = spike_idxs_moving[movement_mask[spike_idxs_moving]]\n",
    "\n",
    "    # Get corresponding positions of spikes\n",
    "    spike_x = x[spike_idxs_moving]\n",
    "    spike_z = z[spike_idxs_moving]\n",
    "\n",
    "    spike_count_map, _, _ = np.histogram2d(spike_x, spike_z, bins=[x_edges, z_edges])\n",
    "    \n",
    "    # Smooth\n",
    "    spike_map_smooth = gaussian_filter(spike_count_map, sigma=sigma)\n",
    "    spike_map_smooth_masked = np.where(occupancy_mask, np.nan, spike_map_smooth)\n",
    "\n",
    "    spike_maps[cell_id] = spike_map_smooth_masked\n",
    "\n",
    "pf_data_dict['sm'] = spike_maps"
   ]
  },
  {
   "cell_type": "code",
   "execution_count": 71,
   "id": "60da8333",
   "metadata": {},
   "outputs": [
    {
     "data": {
      "image/png": "[encoded data removed]",
      "text/plain": [
       "<Figure size 500x400 with 2 Axes>"
      ]
     },
     "metadata": {},
     "output_type": "display_data"
    }
   ],
   "source": [
    "save=True\n",
    "\n",
    "for unit in spike_maps.keys():\n",
    "\n",
    "    spike_map = spike_maps[unit]\n",
    "\n",
    "    plt.figure(figsize=figsize)\n",
    "\n",
    "    cmap = cm.Reds.copy()\n",
    "    cmap.set_bad(color='lightgrey')  # for unvisited bins\n",
    "    plt.imshow(\n",
    "        spike_map.T, \n",
    "        origin='lower', \n",
    "        extent=(x_edges[0], x_edges[-1], z_edges[0], z_edges[-1]),\n",
    "        aspect='auto',\n",
    "        cmap=cmap,\n",
    "    )\n",
    "    plt.colorbar(label='Spike count')\n",
    "    plt.xlabel('X position [m]')\n",
    "    plt.ylabel('Z position [m]')\n",
    "    filename = f'sm_unit{unit}_{trial_key}_vcut{speed_cutoff*100}_{date}'\n",
    "    plt.title(filename)\n",
    "    plt.tight_layout()\n",
    "\n",
    "    if save:\n",
    "        plt.savefig(pf_path / f\"{filename}.png\", dpi=300, bbox_inches='tight')\n",
    "    if unit == list(spike_maps.keys())[0]:\n",
    "        plt.show()\n",
    "    plt.close()"
   ]
  },
  {
   "cell_type": "markdown",
   "id": "6613bf79",
   "metadata": {},
   "source": [
    "### 6. Computre place fields (rate maps)"
   ]
  },
  {
   "cell_type": "code",
   "execution_count": 72,
   "id": "00e97841",
   "metadata": {},
   "outputs": [],
   "source": [
    "place_fields = {}\n",
    "for cell_id, spike_map_smooth_masked in spike_maps.items():\n",
    "    rate_map = spike_map_smooth_masked / occupancy_smooth_masked\n",
    "    place_fields[cell_id] = rate_map\n",
    "\n",
    "pf_data_dict['rm'] = place_fields"
   ]
  },
  {
   "cell_type": "code",
   "execution_count": 73,
   "metadata": {},
   "outputs": [
    {
     "data": {
      "image/png": "[encoded data removed]",
      "text/plain": [
       "<Figure size 500x400 with 2 Axes>"
      ]
     },
     "metadata": {},
     "output_type": "display_data"
    }
   ],
   "source": [
    "save=True\n",
    "\n",
    "for unit in place_fields.keys():\n",
    "    place_map = place_fields[unit]\n",
    "    plt.figure(figsize=figsize)\n",
    "    cmap = cm.Spectral_r.copy()\n",
    "    cmap.set_bad(color='lightgrey')  # for unvisited bins\n",
    "    plt.imshow(\n",
    "        place_map.T, \n",
    "        origin='lower', \n",
    "        extent=(x_edges[0], x_edges[-1], z_edges[0], z_edges[-1]),\n",
    "        aspect='auto',\n",
    "        cmap=cmap,\n",
    "    )\n",
    "    plt.colorbar(label='Firing rate [Hz]')\n",
    "    plt.xlabel('X position [m]')\n",
    "    plt.ylabel('Z position [m]')\n",
    "    filename = f'pf_unit{unit}_{trial_key}_vcut{speed_cutoff*100}_{date}'\n",
    "    plt.title(filename)\n",
    "    plt.tight_layout()\n",
    "    if save:\n",
    "        plt.savefig(pf_path / f\"{filename}.png\", dpi=300, bbox_inches='tight')\n",
    "    if unit == list(place_fields.keys())[0]:\n",
    "        plt.show()\n",
    "    plt.close()"
   ]
  },
  {
   "cell_type": "code",
   "execution_count": 74,
   "id": "3ec99f58",
   "metadata": {},
   "outputs": [],
   "source": [
    "with open(f\"{pf_path}/pf_data_dict_{trial_key}_{date}.pkl\", \"wb\") as f:\n",
    "    pickle.dump(pf_data_dict, f)"
   ]
  },
  {
   "cell_type": "code",
   "execution_count": null,
   "id": "2f7f0dc2",
   "metadata": {},
   "outputs": [],
   "source": []
  },
  {
   "cell_type": "code",
   "execution_count": null,
   "id": "f932d456",
   "metadata": {},
   "outputs": [],
   "source": []
  },
  {
   "cell_type": "code",
   "execution_count": null,
   "id": "776c9d2b",
   "metadata": {},
   "outputs": [],
   "source": []
  }
 ],
 "metadata": {
  "kernelspec": {
   "display_name": "motive",
   "language": "python",
   "name": "python3"
  },
  "language_info": {
   "codemirror_mode": {
    "name": "ipython",
    "version": 3
   },
   "file_extension": ".py",
   "mimetype": "text/x-python",
   "name": "python",
   "nbconvert_exporter": "python",
   "pygments_lexer": "ipython3",
   "version": "3.13.4"
  }
 },
 "nbformat": 4,
 "nbformat_minor": 5
}
