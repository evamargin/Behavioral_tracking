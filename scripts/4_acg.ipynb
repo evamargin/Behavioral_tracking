{
 "cells": [
  {
   "cell_type": "code",
   "execution_count": 1,
   "id": "be177e82",
   "metadata": {},
   "outputs": [],
   "source": [
    "import numpy as np\n",
    "import matplotlib.pyplot as plt\n",
    "import pandas as pd\n",
    "\n",
    "import scipy.signal as signal\n",
    "\n",
    "from pathlib import Path\n",
    "import glob\n",
    "import shutil\n",
    "import os\n",
    "import pickle\n",
    "\n",
    "import sys\n",
    "sys.path.append('/storage3/eva/code/remapping/src')\n",
    "import path_formatting as pf\n",
    "import utils\n",
    "import oe"
   ]
  },
  {
   "cell_type": "code",
   "execution_count": 2,
   "id": "e7f9e661",
   "metadata": {},
   "outputs": [
    {
     "name": "stdout",
     "output_type": "stream",
     "text": [
      "Ola! For folders inside of res_path: Path(res_path)/\"folder_name\"\n",
      "To make new folder (if not exist): your_path.mkdir(parents=True, exist_ok=True)\n"
     ]
    }
   ],
   "source": [
    "date = \"20250915\" # change this according to ur session\n",
    "animal = \"eb03\"\n",
    "\n",
    "oe_sr = 30000\n",
    "m_sr = 120\n",
    "\n",
    "_, ks_path, csv_path, res_path = utils.path_load(date, animal,p=True)\n",
    "\n",
    "acg_path = Path(res_path) / 'acg'\n",
    "os.makedirs(acg_path, exist_ok=True) # Create the folder if it doesn't exist"
   ]
  },
  {
   "cell_type": "code",
   "execution_count": 3,
   "id": "58c8f25c",
   "metadata": {},
   "outputs": [
    {
     "name": "stdout",
     "output_type": "stream",
     "text": [
      "Sup! U have...\n",
      "51 phy-good clusters\n"
     ]
    }
   ],
   "source": [
    "goodspiketimes = oe.ks_load(ks_path)"
   ]
  },
  {
   "cell_type": "code",
   "execution_count": 4,
   "id": "1ac297aa",
   "metadata": {},
   "outputs": [
    {
     "data": {
      "image/png": "[encoded data removed]",
      "text/plain": [
       "<Figure size 500x300 with 1 Axes>"
      ]
     },
     "metadata": {},
     "output_type": "display_data"
    }
   ],
   "source": [
    "# example plot\n",
    "unit = list(goodspiketimes.keys())[0] # pick the unit u wanna plot\n",
    "\n",
    "lags, acorr = oe.acg(goodspiketimes[unit]) # under the hood see src/oe.py\n",
    "\n",
    "plt.figure(figsize=(5, 3))\n",
    "plt.bar(lags, acorr, width=1, color='black')\n",
    "\n",
    "filename = f'ACG_unit_{unit}_ses_{date}'\n",
    "plt.title(filename)\n",
    "plt.xlabel('Lag (ms)')\n",
    "plt.ylabel('Count')\n",
    "plt.tight_layout()\n",
    "plt.show()"
   ]
  },
  {
   "cell_type": "code",
   "execution_count": 5,
   "id": "5de85d71",
   "metadata": {},
   "outputs": [],
   "source": [
    "acg_dict = {}\n",
    "\n",
    "for unit_id, spikes in goodspiketimes.items():\n",
    "\n",
    "    unit = {}\n",
    "\n",
    "    _lags, _acg = oe.acg(spikes)\n",
    "\n",
    "    # save results for further analysis\n",
    "    unit['lags'] = _lags\n",
    "    unit['acg'] = _acg\n",
    "    acg_dict[unit_id] = unit\n",
    "\n",
    "    plt.figure(figsize=(5, 3))\n",
    "    plt.bar(_lags, _acg, width=1, color='black')\n",
    "\n",
    "    filename = f'ACG_unit_{unit_id}_ses_{date}'\n",
    "    plt.title(filename)\n",
    "    plt.xlabel('Lag (ms)')\n",
    "    plt.ylabel('Count')\n",
    "    plt.tight_layout()\n",
    "\n",
    "    plt.savefig(f\"{acg_path}/{filename}.png\", dpi=300, bbox_inches='tight')\n",
    "    plt.close()"
   ]
  },
  {
   "cell_type": "code",
   "execution_count": 6,
   "id": "f24d4bab",
   "metadata": {},
   "outputs": [],
   "source": [
    "with open(f\"{acg_path}/acg_{animal}_{date}.pkl\", \"wb\") as f:\n",
    "    pickle.dump(acg_dict, f)"
   ]
  },
  {
   "cell_type": "code",
   "execution_count": null,
   "id": "58732085",
   "metadata": {},
   "outputs": [],
   "source": [
    "# to load later\n",
    "# with open(f\"{acg_path}/acg_{animal}_{date}.pkl\", \"rb\") as f:\n",
    "#     acg_dict = pickle.load(f)"
   ]
  }
 ],
 "metadata": {
  "kernelspec": {
   "display_name": "motive",
   "language": "python",
   "name": "python3"
  },
  "language_info": {
   "codemirror_mode": {
    "name": "ipython",
    "version": 3
   },
   "file_extension": ".py",
   "mimetype": "text/x-python",
   "name": "python",
   "nbconvert_exporter": "python",
   "pygments_lexer": "ipython3",
   "version": "3.13.4"
  }
 },
 "nbformat": 4,
 "nbformat_minor": 5
}
